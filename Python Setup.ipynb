{
 "cells": [
  {
   "cell_type": "markdown",
   "metadata": {},
   "source": [
    "#Python Walkabout Setup\n",
    "\n",
    "This week will use Python and several scientific packages. Our recommended way to install these is as follows:\n",
    "\n",
    "##Windows / Mac OS X\n",
    "Anaconda is a distribution of Python that contains all the software needed for this week.\n",
    "\n",
    "To install, [download](http://continuum.io/downloads) Anaconda. We recommend clicking on \"I want Python 3.4\" to install the newest version of Python.\n",
    "\n",
    "Let one of us know if you'd like instructions for using anything other then Anaconda.\n",
    "\n",
    "##Linux\n",
    "We'll make use of software called ipython, numpy, scipy, matplotlib, pandas, and (for astronomers) astropy and APLpy.\n",
    "\n",
    "Debian-based distributions (including Ubuntu and Linux Mint) can install these with:\n",
    "\n",
    "`sudo apt-get install python{,3}-{scipy,matplotlib,pandas,sympy} ipython{,3}`\n",
    "\n",
    "Fedora-based distributions (including OpenSUSE) can install these with:\n",
    "\n",
    "`sudo yum install python{,3}-{matplotlib,pandas} {python3-,}{scipy,sympy}`\n",
    "\n",
    "Astronomy packages can be installed with one of:\n",
    "\n",
    "```\n",
    "sudo apt-get install python{,3}-astropy\n",
    "sudo yum install {python3-,}APLpy\n",
    "```\n",
    "\n",
    "For any other distributions or problems, contact us ASAP. Anaconda (see above) is also an option.\n",
    "\n",
    "#Prerequisites\n",
    "Robert Johansson has created a nice series of [guides](http://nbviewer.ipython.org/github/jrjohansson/scientific-python-lectures/tree/master/) that we will treat as \"homework\" before each workshop. Be sure to go through lectures [1](http://nbviewer.ipython.org/github/jrjohansson/scientific-python-lectures/blob/master/Lecture-1-Introduction-to-Python-Programming.ipynb) before the first workshop, and lectures [2](http://nbviewer.ipython.org/github/jrjohansson/scientific-python-lectures/blob/master/Lecture-2-Numpy.ipynb) and [4](http://nbviewer.ipython.org/github/jrjohansson/scientific-python-lectures/blob/master/Lecture-4-Matplotlib.ipynb) before the second workshop. **The workshops will be a review and application of the techniques in these lectures, so read them first.**"
   ]
  }
 ],
 "metadata": {
  "kernelspec": {
   "display_name": "Python 3",
   "language": "python",
   "name": "python3"
  },
  "language_info": {
   "codemirror_mode": {
    "name": "ipython",
    "version": 3
   },
   "file_extension": ".py",
   "mimetype": "text/x-python",
   "name": "python",
   "nbconvert_exporter": "python",
   "pygments_lexer": "ipython3",
   "version": "3.4.3"
  }
 },
 "nbformat": 4,
 "nbformat_minor": 0
}
